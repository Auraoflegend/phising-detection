{
 "cells": [
  {
   "cell_type": "code",
   "execution_count": 2,
   "id": "adc02f3d-a9af-4e79-a587-8e83cd3e77d9",
   "metadata": {},
   "outputs": [],
   "source": [
    "import pandas as pd\n",
    "import matplotlib.pyplot as plt\n",
    "from sklearn.metrics import accuracy_score, classification_report\n",
    "from sklearn.model_selection import train_test_split\n",
    "from sklearn.linear_model import LogisticRegression\n",
    "from sklearn.preprocessing import StandardScaler\n",
    "from sklearn.tree import DecisionTreeClassifier\n",
    "from sklearn.ensemble import RandomForestClassifier\n",
    "from xgboost import XGBClassifier\n",
    "from catboost import CatBoostClassifier"
   ]
  },
  {
   "cell_type": "code",
   "execution_count": 3,
   "id": "aac4e052-18b7-42d3-99f6-90622405c919",
   "metadata": {},
   "outputs": [
    {
     "name": "stdout",
     "output_type": "stream",
     "text": [
      "   Type  url_length  number_of_dots_in_url  having_repeated_digits_in_url  \\\n",
      "0     0          37                      2                              0   \n",
      "1     1          70                      5                              0   \n",
      "2     0          42                      2                              0   \n",
      "3     0          46                      2                              0   \n",
      "4     0          51                      3                              0   \n",
      "\n",
      "   number_of_digits_in_url  number_of_special_char_in_url  \\\n",
      "0                        0                              8   \n",
      "1                        0                             12   \n",
      "2                        6                              8   \n",
      "3                        0                              7   \n",
      "4                        0                              9   \n",
      "\n",
      "   number_of_hyphens_in_url  number_of_underline_in_url  \\\n",
      "0                         0                           0   \n",
      "1                         0                           0   \n",
      "2                         0                           0   \n",
      "3                         0                           0   \n",
      "4                         0                           0   \n",
      "\n",
      "   number_of_slash_in_url  number_of_questionmark_in_url  ...  \\\n",
      "0                       5                              0  ...   \n",
      "1                       6                              0  ...   \n",
      "2                       3                              1  ...   \n",
      "3                       4                              0  ...   \n",
      "4                       5                              0  ...   \n",
      "\n",
      "   having_digits_in_subdomain  number_of_digits_in_subdomain  \\\n",
      "0                           0                              0   \n",
      "1                           0                              0   \n",
      "2                           0                              0   \n",
      "3                           0                              0   \n",
      "4                           0                              0   \n",
      "\n",
      "   having_repeated_digits_in_subdomain  having_path  path_length  \\\n",
      "0                                    1            0            3   \n",
      "1                                    1            0            4   \n",
      "2                                    1            0            1   \n",
      "3                                    1            0            2   \n",
      "4                                    1            0            3   \n",
      "\n",
      "   having_query  having_fragment  having_anchor  entropy_of_url  \\\n",
      "0             0                0              0        4.010412   \n",
      "1             0                0              0        4.089470   \n",
      "2             1                0              0        4.386016   \n",
      "3             0                0              0        4.221947   \n",
      "4             0                0              0        4.103538   \n",
      "\n",
      "   entropy_of_domain  \n",
      "0           2.751629  \n",
      "1           3.532573  \n",
      "2           3.344698  \n",
      "3           3.189898  \n",
      "4           2.952820  \n",
      "\n",
      "[5 rows x 42 columns]\n"
     ]
    }
   ],
   "source": [
    "df = pd.read_csv(\"Dataset.csv\")\n",
    "print(df.head())"
   ]
  },
  {
   "cell_type": "code",
   "execution_count": 4,
   "id": "27da338b-ba4b-4b3d-9779-51f2993724fa",
   "metadata": {},
   "outputs": [
    {
     "name": "stdout",
     "output_type": "stream",
     "text": [
      "Decision Tree Test Accuracy: 0.9537810042347248\n",
      "Accuracy for class 0: {'precision': 0.9538917254550415, 'recall': 0.956650900988938, 'f1-score': 0.9552693208430914, 'support': 25583.0}\n",
      "Accuracy for class 1: {'precision': 0.9536623072744745, 'recall': 0.9507227058774524, 'f1-score': 0.9521902377972465, 'support': 24007.0}\n",
      "Accuracy for class accuracy: 0.9537810042347248\n",
      "Accuracy for class macro avg: {'precision': 0.9537770163647581, 'recall': 0.9536868034331952, 'f1-score': 0.9537297793201689, 'support': 49590.0}\n",
      "Accuracy for class weighted avg: {'precision': 0.953780661888579, 'recall': 0.9537810042347248, 'f1-score': 0.9537787068749205, 'support': 49590.0}\n",
      "\n",
      "Random Forest Test Accuracy: 0.9672312966323856\n",
      "Accuracy for class 0: {'precision': 0.9635477130253076, 'recall': 0.9733025837470195, 'f1-score': 0.9684005833738454, 'support': 25583.0}\n",
      "Accuracy for class 1: {'precision': 0.9712396833417551, 'recall': 0.9607614445786645, 'f1-score': 0.96597214951314, 'support': 24007.0}\n",
      "Accuracy for class accuracy: 0.9672312966323856\n",
      "Accuracy for class macro avg: {'precision': 0.9673936981835314, 'recall': 0.967032014162842, 'f1-score': 0.9671863664434928, 'support': 49590.0}\n",
      "Accuracy for class weighted avg: {'precision': 0.9672714704640445, 'recall': 0.9672312966323856, 'f1-score': 0.9672249549871959, 'support': 49590.0}\n",
      "\n",
      "XGBoost Test Accuracy: 0.9111716071788667\n",
      "Accuracy for class 0: {'precision': 0.895229919378919, 'recall': 0.9375366454286049, 'f1-score': 0.9158949880668258, 'support': 25583.0}\n",
      "Accuracy for class 1: {'precision': 0.9299061321168524, 'recall': 0.8830757695672096, 'f1-score': 0.9058861232774277, 'support': 24007.0}\n",
      "Accuracy for class accuracy: 0.9111716071788667\n",
      "Accuracy for class macro avg: {'precision': 0.9125680257478856, 'recall': 0.9103062074979072, 'f1-score': 0.9108905556721267, 'support': 49590.0}\n",
      "Accuracy for class weighted avg: {'precision': 0.9120170103085331, 'recall': 0.9111716071788667, 'f1-score': 0.9110495995409318, 'support': 49590.0}\n",
      "\n",
      "CATBoost Test Accuracy: 0.9174631982254486\n",
      "Accuracy for class 0: {'precision': 0.9026757607555089, 'recall': 0.9415236680608217, 'f1-score': 0.9216905504429181, 'support': 25583.0}\n",
      "Accuracy for class 1: {'precision': 0.9346896009779098, 'recall': 0.8918232182280168, 'f1-score': 0.9127533945814593, 'support': 24007.0}\n",
      "Accuracy for class accuracy: 0.9174631982254486\n",
      "Accuracy for class macro avg: {'precision': 0.9186826808667093, 'recall': 0.9166734431444192, 'f1-score': 0.9172219725121887, 'support': 49590.0}\n",
      "Accuracy for class weighted avg: {'precision': 0.9181739713265752, 'recall': 0.9174631982254486, 'f1-score': 0.9173639866041192, 'support': 49590.0}\n",
      "\n"
     ]
    }
   ],
   "source": [
    "target_column = 'Type'\n",
    "features = df.columns.drop(target_column)\n",
    "\n",
    "y = df[target_column]\n",
    "X = df[features]\n",
    "\n",
    "# Split the dataset into training and testing sets\n",
    "X_train, X_test, y_train, y_test = train_test_split(X, y, test_size=0.2, random_state=1)\n",
    "def run_algos(X_train, y_train, X_test, y_test):\n",
    "    accuracies = {}\n",
    "    models = {\n",
    "        'Decision Tree': DecisionTreeClassifier(random_state=42),\n",
    "        'Random Forest': RandomForestClassifier(random_state=42),\n",
    "        'XGBoost': XGBClassifier(random_state=42),\n",
    "        'CATBoost': CatBoostClassifier(random_state=42, verbose=False),\n",
    "    }\n",
    "\n",
    "    best_model = None\n",
    "    best_accuracy = 0\n",
    "\n",
    "    # Loop through models\n",
    "    for name, model in models.items():\n",
    "        model.fit(X_train, y_train)\n",
    "        y_test_pred = model.predict(X_test)\n",
    "        accuracy = accuracy_score(y_test, y_test_pred)\n",
    "        accuracies[name] = accuracy\n",
    "        print(f\"{name} Test Accuracy: {accuracy}\")\n",
    "        class_report = classification_report(y_test, y_test_pred, output_dict=True)\n",
    "        # Print the accuracy for each class\n",
    "        for label, metrics in class_report.items():\n",
    "            print(f'Accuracy for class {label}: {metrics}')\n",
    "        print(\"\")\n",
    "        \n",
    "        if accuracy > best_accuracy:\n",
    "            best_accuracy = accuracy\n",
    "            best_model = model\n",
    "\n",
    "    return accuracies, best_model\n",
    "\n",
    "accuracies, best_model = run_algos(X_train, y_train, X_test, y_test)\n",
    "\n"
   ]
  },
  {
   "cell_type": "code",
   "execution_count": 5,
   "id": "abd706d1-e791-4f07-8221-abc1bfba7377",
   "metadata": {},
   "outputs": [
    {
     "name": "stdout",
     "output_type": "stream",
     "text": [
      "           MODEL  ACCURACY\n",
      "1  Random Forest  0.967231\n",
      "0  Decision Tree  0.953781\n",
      "3       CATBoost  0.917463\n",
      "2        XGBoost  0.911172\n"
     ]
    }
   ],
   "source": [
    "model_comparison = pd.DataFrame({\n",
    "    'MODEL': list(accuracies.keys()),\n",
    "    'ACCURACY': list(accuracies.values())\n",
    "})\n",
    "\n",
    "# Sorting the DataFrame by accuracy in descending order\n",
    "sorted_model = model_comparison.sort_values(by='ACCURACY', ascending=False)\n",
    "print(sorted_model)\n",
    "\n"
   ]
  },
  {
   "cell_type": "code",
   "execution_count": 6,
   "id": "0d3a1fd9-6221-422a-8736-dba94c17f43c",
   "metadata": {},
   "outputs": [
    {
     "data": {
      "text/plain": [
       "['Phishing_best.pkl']"
      ]
     },
     "execution_count": 6,
     "metadata": {},
     "output_type": "execute_result"
    }
   ],
   "source": [
    "#Save the sorted DataFrame to a file named Phishing_website.pkl using joblib.\n",
    "import joblib\n",
    "joblib.dump(best_model, 'Phishing_best.pkl')"
   ]
  },
  {
   "cell_type": "code",
   "execution_count": 7,
   "id": "209be340-9f98-4256-9adf-7f8642c6aac3",
   "metadata": {},
   "outputs": [
    {
     "name": "stdout",
     "output_type": "stream",
     "text": [
      "RandomForestClassifier(random_state=42)\n"
     ]
    }
   ],
   "source": [
    "print(best_model)"
   ]
  },
  {
   "cell_type": "code",
   "execution_count": 8,
   "id": "abd21be8-2405-4a65-b044-2f8cde7bf8d8",
   "metadata": {},
   "outputs": [
    {
     "name": "stdout",
     "output_type": "stream",
     "text": [
      "F:\\project\\phising detection\n"
     ]
    }
   ],
   "source": [
    "!cd"
   ]
  },
  {
   "cell_type": "code",
   "execution_count": null,
   "id": "1da165e6-c708-4a1e-8028-8d5d69588ea4",
   "metadata": {},
   "outputs": [],
   "source": []
  }
 ],
 "metadata": {
  "kernelspec": {
   "display_name": "Python 3 (ipykernel)",
   "language": "python",
   "name": "python3"
  },
  "language_info": {
   "codemirror_mode": {
    "name": "ipython",
    "version": 3
   },
   "file_extension": ".py",
   "mimetype": "text/x-python",
   "name": "python",
   "nbconvert_exporter": "python",
   "pygments_lexer": "ipython3",
   "version": "3.10.0"
  }
 },
 "nbformat": 4,
 "nbformat_minor": 5
}
